{
 "cells": [
  {
   "cell_type": "markdown",
   "metadata": {},
   "source": [
    "## Demo notebook\n",
    "\n",
    "This notebook demonstrates how to find and open resources using [neurobank](https://github.com/melizalab/neurobank), our database of shared data files."
   ]
  },
  {
   "cell_type": "code",
   "execution_count": null,
   "metadata": {
    "collapsed": false
   },
   "outputs": [],
   "source": [
    "# load matplotlib inline mode\n",
    "%matplotlib notebook\n",
    "\n",
    "# import some useful libraries\n",
    "import os                         # used to locate files in the filesystem\n",
    "import numpy as np                # numerical analysis linear algebra\n",
    "import matplotlib.pyplot as plt   # plotting\n",
    "\n",
    "import nbank\n",
    "import ewave"
   ]
  },
  {
   "cell_type": "markdown",
   "metadata": {},
   "source": [
    "The first step is to search for a resource we want. As an example, we're going to locate a recording of a starling vocalization produced by the bird with the id `st262`."
   ]
  },
  {
   "cell_type": "code",
   "execution_count": null,
   "metadata": {
    "collapsed": false
   },
   "outputs": [],
   "source": [
    "dtype=\"vocalization-wav\"\n",
    "species=\"starling\"\n",
    "subject=\"st262\"\n",
    "\n",
    "resources = list(nbank.search(dtype=dtype, metadata__species=species, metadata__singer=subject))\n",
    "len(resources)"
   ]
  },
  {
   "cell_type": "markdown",
   "metadata": {},
   "source": [
    "Note that the search returned a number of hits. If you want to try to restrict the search further, take a look at the web interface for the neurobank registry: https://gracula.psyc.virginia.edu/neurobank/resources/. Let's take a look at the first item:"
   ]
  },
  {
   "cell_type": "code",
   "execution_count": null,
   "metadata": {
    "collapsed": false
   },
   "outputs": [],
   "source": [
    "resources[0]"
   ]
  },
  {
   "cell_type": "markdown",
   "metadata": {},
   "source": [
    "The field we need to locate the file that holds this resource is `name`. The `get()` function will return the path of first resource that matches this id."
   ]
  },
  {
   "cell_type": "code",
   "execution_count": null,
   "metadata": {
    "collapsed": false
   },
   "outputs": [],
   "source": [
    "path = nbank.get(resources[0]['name'], local_only=True)\n",
    "path"
   ]
  },
  {
   "cell_type": "markdown",
   "metadata": {},
   "source": [
    "Now we can load the file using the [ewave](https://github.com/melizalab/py-ewave) module and plot a spectrogram."
   ]
  },
  {
   "cell_type": "code",
   "execution_count": null,
   "metadata": {
    "collapsed": false
   },
   "outputs": [],
   "source": [
    "with ewave.open(path) as fp:\n",
    "    samples = fp.read()\n",
    "    Fs = fp.sampling_rate"
   ]
  },
  {
   "cell_type": "code",
   "execution_count": null,
   "metadata": {
    "collapsed": false
   },
   "outputs": [],
   "source": [
    "from scipy.signal import spectrogram\n",
    "\n",
    "freq, bins, spec = spectrogram(samples, fs=Fs, window='hamming', nperseg=256, noverlap=128)\n",
    "# spectrograms are usually shown on a log intensity scale\n",
    "spec = np.log10(spec + 1)"
   ]
  },
  {
   "cell_type": "code",
   "execution_count": null,
   "metadata": {
    "collapsed": false
   },
   "outputs": [],
   "source": [
    "fig, axes = plt.subplots(nrows=1, ncols=1, figsize=(10, 4), sharex=True)\n",
    "axes.imshow(spec, extent=(bins[0], bins[-1], freq[0], freq[-1]), origin='lower', aspect='auto', cmap='jet')\n",
    "axes.set_ylabel(\"Frequency (kHz)\")\n",
    "axes.set_title(\"Stimulus spectrogram\")"
   ]
  },
  {
   "cell_type": "markdown",
   "metadata": {},
   "source": [
    "## Exercises\n",
    "\n",
    "1. Change the `nperseg` and `noverlap` parameters in the `spectrogram()` call. How does the appearance of the plot change?\n",
    "1. Select a different vocalization from the list of hits and plot it.\n",
    "2. Search for a different singer and plot his song."
   ]
  },
  {
   "cell_type": "code",
   "execution_count": null,
   "metadata": {
    "collapsed": true
   },
   "outputs": [],
   "source": []
  }
 ],
 "metadata": {
  "kernelspec": {
   "display_name": "Python 3",
   "language": "python",
   "name": "python3"
  },
  "language_info": {
   "codemirror_mode": {
    "name": "ipython",
    "version": 3
   },
   "file_extension": ".py",
   "mimetype": "text/x-python",
   "name": "python",
   "nbconvert_exporter": "python",
   "pygments_lexer": "ipython3",
   "version": "3.5.3"
  }
 },
 "nbformat": 4,
 "nbformat_minor": 2
}
